{
 "cells": [
  {
   "cell_type": "code",
   "execution_count": null,
   "id": "7125e0fc-51b8-41ae-a55e-c22f39c1d9c0",
   "metadata": {},
   "outputs": [],
   "source": [
    "import biobear as bb\n",
    "import polars as pl\n",
    "\n",
    "from genomicranges import GenomicRanges\n",
    "\n",
    "session = bb.new_session()\n",
    "\n",
    "bed = session.read_bed_file(\"consensus_peaks_bicnn.bed\", bb.BEDReadOptions(n_fields=4))"
   ]
  },
  {
   "cell_type": "code",
   "execution_count": null,
   "id": "56cd9e5e-5081-4107-b636-b3cccad2c829",
   "metadata": {},
   "outputs": [],
   "source": [
    "%%time \n",
    "bed_df = bed.to_polars()"
   ]
  },
  {
   "cell_type": "code",
   "execution_count": null,
   "id": "866a88a6-5d8e-4fb5-b01a-474811b9ca03",
   "metadata": {},
   "outputs": [],
   "source": [
    "bigwig = session.read_bigwig_file(\"Astro.bw\")\n",
    "\n",
    "%time bigwig_df = bigwig.to_polars()"
   ]
  },
  {
   "cell_type": "code",
   "execution_count": null,
   "id": "141b40ba-a44b-4560-b24b-429ebeb469c7",
   "metadata": {},
   "outputs": [],
   "source": [
    "%time bed_gr = GenomicRanges.from_polars(bed_df.rename({\"reference_sequence_name\": \"seqnames\", \"start\": \"starts\", \"end\": \"ends\"}))\n",
    "%time bigwig_gr = GenomicRanges.from_polars(bigwig_df.rename({\"name\": \"seqnames\", \"start\": \"starts\", \"end\": \"ends\"}))"
   ]
  },
  {
   "cell_type": "code",
   "execution_count": null,
   "id": "146dd94a-b387-4b6b-b861-cf648c24aac2",
   "metadata": {},
   "outputs": [],
   "source": [
    "print(bigwig_gr)"
   ]
  },
  {
   "cell_type": "code",
   "execution_count": null,
   "id": "116a700b-c648-49bb-8731-8f6c7cc8de21",
   "metadata": {},
   "outputs": [],
   "source": [
    "len(bed_gr), len(bigwig_gr)"
   ]
  },
  {
   "cell_type": "code",
   "execution_count": null,
   "id": "3c4f5dae-5da1-4053-a08f-cbf4f0549c2a",
   "metadata": {},
   "outputs": [],
   "source": [
    "%%timeit -n1 -r3\n",
    "\n",
    "overlaps = bigwig_gr.find_overlaps(bed_gr)"
   ]
  },
  {
   "cell_type": "code",
   "execution_count": null,
   "id": "4e529bd3-afce-43c7-b1dd-444ce2093b1c",
   "metadata": {},
   "outputs": [],
   "source": [
    "%%timeit -n1 -r3\n",
    "\n",
    "overlaps = bigwig_gr.find_overlaps(bed_gr, num_threads=5)"
   ]
  },
  {
   "cell_type": "code",
   "execution_count": null,
   "id": "0b4cc1bc-0943-4438-afff-5d6a7e68c23f",
   "metadata": {},
   "outputs": [],
   "source": [
    "%%timeit -n1 -r3\n",
    "\n",
    "res_gr = bigwig_gr._ranges.find_overlaps(bed_gr._ranges, delete_index=True)"
   ]
  },
  {
   "cell_type": "code",
   "execution_count": null,
   "id": "0555ed1d-b29b-4494-906f-4ebea3c142ed",
   "metadata": {},
   "outputs": [],
   "source": [
    "%%timeit -n1 -r3\n",
    "\n",
    "res_gr = bigwig_gr._ranges.find_overlaps(bed_gr._ranges, delete_index=True, num_threads=5)"
   ]
  },
  {
   "cell_type": "code",
   "execution_count": null,
   "id": "676c19d9-8504-47fd-b778-97a13f5ce6b6",
   "metadata": {},
   "outputs": [],
   "source": [
    "%%timeit -n1 -r3\n",
    "\n",
    "res_nearest = bigwig_gr.nearest(bed_gr)"
   ]
  },
  {
   "cell_type": "code",
   "execution_count": null,
   "id": "d8da66ff-b0d9-43f2-89cf-eed7113b1c92",
   "metadata": {},
   "outputs": [],
   "source": [
    "%%timeit -n1 -r3\n",
    "\n",
    "res_nearest = bigwig_gr.nearest(bed_gr, num_threads=5)"
   ]
  },
  {
   "cell_type": "code",
   "execution_count": null,
   "id": "571bd382-9b1a-4469-88d3-bac13c1e6c8d",
   "metadata": {},
   "outputs": [],
   "source": [
    "%%timeit -n1 -r3\n",
    "\n",
    "res_nearest = bigwig_gr._ranges.nearest(bed_gr._ranges)"
   ]
  },
  {
   "cell_type": "code",
   "execution_count": null,
   "id": "7f7f01e2-0d7f-4d09-8bbf-9659096c6898",
   "metadata": {},
   "outputs": [],
   "source": [
    "%%timeit -n1 -r3\n",
    "\n",
    "res_nearest = bigwig_gr._ranges.nearest(bed_gr._ranges, num_threads=5)"
   ]
  },
  {
   "cell_type": "code",
   "execution_count": null,
   "id": "8c39f659-64bc-46c8-9558-27e29d36436d",
   "metadata": {},
   "outputs": [],
   "source": []
  }
 ],
 "metadata": {
  "kernelspec": {
   "display_name": "Python 3 (ipykernel)",
   "language": "python",
   "name": "python3"
  },
  "language_info": {
   "codemirror_mode": {
    "name": "ipython",
    "version": 3
   },
   "file_extension": ".py",
   "mimetype": "text/x-python",
   "name": "python",
   "nbconvert_exporter": "python",
   "pygments_lexer": "ipython3",
   "version": "3.12.8"
  }
 },
 "nbformat": 4,
 "nbformat_minor": 5
}
